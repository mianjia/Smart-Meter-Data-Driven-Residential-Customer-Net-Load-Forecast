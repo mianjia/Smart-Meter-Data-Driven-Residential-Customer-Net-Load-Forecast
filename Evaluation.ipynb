{
  "nbformat": 4,
  "nbformat_minor": 0,
  "metadata": {
    "colab": {
      "provenance": []
    },
    "kernelspec": {
      "name": "python3",
      "display_name": "Python 3"
    },
    "language_info": {
      "name": "python"
    }
  },
  "cells": [
    {
      "cell_type": "code",
      "execution_count": 4,
      "metadata": {
        "id": "1mhSr81GbBP-"
      },
      "outputs": [],
      "source": [
        "import numpy as np\n",
        "import torch\n",
        "from torch import nn\n",
        "import pandas as pd\n",
        "import matplotlib.pyplot as plt"
      ]
    },
    {
      "cell_type": "code",
      "source": [
        "# need to import prediction and testing labels accordingly\n",
        "prediction = torch.load('prediction.pt')"
      ],
      "metadata": {
        "id": "MIjKFDA3bPb-"
      },
      "execution_count": 2,
      "outputs": []
    },
    {
      "cell_type": "code",
      "source": [
        "# calculating MSE\n",
        "MSE_seq = []\n",
        "loss = nn.MSELoss()\n",
        "predict, label = torch.squeeze(prediction).detach().numpy(), np.squeeze(test_Y)\n",
        "for i in range(96):\n",
        "    mse = loss(torch.tensor(predict[:,i]),torch.tensor(label[:,i]))\n",
        "    # MSE_seq.append(mse*(max_c-min_c)**2)\n",
        "    # MSE_seq.append(mse*(max_s-min_s)**2)"
      ],
      "metadata": {
        "id": "99Z6bGHhbEzM"
      },
      "execution_count": null,
      "outputs": []
    },
    {
      "cell_type": "code",
      "source": [
        "# plot MSE of each time slot in targeted window\n",
        "mse_overall= np.mean(MSE_seq)\n",
        "plt.figure(figsize=(15,6))\n",
        "plt.plot(MSE_seq,'bo')\n",
        "plt.xlabel('time slot',fontsize=15)\n",
        "plt.ylabel('MSE',fontsize=15)\n",
        "# plt.title('Testing MSE for Residential Consumption {}'.format(mse_overall), fontsize=15)\n",
        "# plt.title('Testing MSE for Solar Generation {}'.format(mse_overall), fontsize=15)"
      ],
      "metadata": {
        "id": "auZResvfbFRz"
      },
      "execution_count": null,
      "outputs": []
    },
    {
      "cell_type": "code",
      "source": [
        "# calculating hourly nMAE\n",
        "predict_hour, label_hour = np.zeros((3360,24)), np.zeros((3360,24))\n",
        "for i in range(3360):\n",
        "    for j in range(24):\n",
        "        predict_hour[i,j] = np.mean(torch.squeeze(prediction).detach().numpy()[i,j*4:(j+1)*4])\n",
        "        label_hour[i,j] = np.mean(np.squeeze(label)[i,j*4:(j+1)*4])   \n",
        "\n",
        "MAE_seq=[]\n",
        "for i in range(3360):\n",
        "    mae = np.mean(np.abs(predict_hour[i,:]-label_hour[i,:]))\n",
        "    MAE_seq.append(mae)\n",
        "print('hourly nMAE', np.mean(MAE_seq))"
      ],
      "metadata": {
        "id": "CmPSVXEmbM-C"
      },
      "execution_count": null,
      "outputs": []
    }
  ]
}